{
 "cells": [
  {
   "cell_type": "markdown",
   "metadata": {},
   "source": [
    "## Introduction/Business Problem\n",
    "\n",
    "Clearly define a problem or an idea of your choice, where you would need to leverage the Foursquare location data to solve or execute. Remember that data science problems always target an audience and are meant to help a group of stakeholders solve a problem, so make sure that you explicitly describe your audience and why they would care about your problem.\n",
    "\n",
    "This submission will eventually become your Introduction/Business Problem section in your final report. So I recommend that you push the report (having your Introduction/Business Problem section only for now) to your Github repository and submit a link to it."
   ]
  },
  {
   "cell_type": "markdown",
   "metadata": {},
   "source": [
    "### Migrating to Quebec: a decision based on the choice of school for my children"
   ]
  },
  {
   "cell_type": "markdown",
   "metadata": {},
   "source": [
    "### Introduction\n",
    "\n",
    "#### Background\n",
    "\n",
    "A few years ago my wife and I started the process of emigrating to Quebec. In those years we had two young children and one of our biggest concerns was making a good neighborhood choice. Access to a nearby school, a hospital, markets and bus routes were very important aspects for the final decision.\n",
    "\n",
    "According to the 2016 census, there are about 70,000 Colombians living in Canada, of whom 25,000 are in the province of Quebec and approximately 10% reside in the Quebec metropolitan census area (MCA).\n",
    "\n",
    "Despite the fact that historically Latin American emigration to Canada was marked for social reasons, there are many interested in emigrating who have very good academic profiles and have the possibility of choosing good neighborhoods to live in.\n",
    "\n",
    "An important factor to consider is the effort that Canada is making in its 2020-2022 immigration plan to increase the numbers of immigrants, seeking to maintain a balance between the number and the adaptability and productivity of immigrants.\n",
    "\n",
    "This indicates that many families will continue to encounter the same need to make an adequate neighborhood selection.\n",
    "\n",
    "#### Problem\n",
    "\n",
    "What is the best neighborhood to live for many of these people who start this long process of emigration? The choice is complicated when the family also has school-age children. Obtaining a list of schools is not a difficult task, but other important places must be considered. For this analysis, schools with cafes, restaurants and supermarkets will be chosen.\n",
    "\n",
    "\n",
    "#### Audience\n",
    "\n",
    "Those interested in this project are parents who are already in the process of emigrating to Quebec with their family and have not yet chosen a neighborhood to settle in.\n"
   ]
  },
  {
   "cell_type": "code",
   "execution_count": null,
   "metadata": {},
   "outputs": [],
   "source": []
  }
 ],
 "metadata": {
  "kernelspec": {
   "display_name": "Python 3",
   "language": "python",
   "name": "python3"
  },
  "language_info": {
   "codemirror_mode": {
    "name": "ipython",
    "version": 3
   },
   "file_extension": ".py",
   "mimetype": "text/x-python",
   "name": "python",
   "nbconvert_exporter": "python",
   "pygments_lexer": "ipython3",
   "version": "3.7.6"
  }
 },
 "nbformat": 4,
 "nbformat_minor": 2
}
